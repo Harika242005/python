{
  "cells": [
    {
      "cell_type": "code",
      "execution_count": 1,
      "metadata": {
        "colab": {
          "base_uri": "https://localhost:8080/"
        },
        "id": "y8Qf2tztnp6m",
        "outputId": "f1b6986d-63d1-42aa-f083-0258f014115b"
      },
      "outputs": [
        {
          "name": "stdout",
          "output_type": "stream",
          "text": [
            "*\n"
          ]
        }
      ],
      "source": [
        "print('*')"
      ]
    },
    {
      "cell_type": "code",
      "execution_count": 2,
      "metadata": {
        "colab": {
          "base_uri": "https://localhost:8080/"
        },
        "id": "QxCglYHmn7aY",
        "outputId": "7f838fb6-1c58-47d0-8fa1-e4faeb970ef5"
      },
      "outputs": [
        {
          "name": "stdout",
          "output_type": "stream",
          "text": [
            "*\n",
            "*\n",
            "*\n",
            "*\n",
            "*\n"
          ]
        }
      ],
      "source": [
        "for i in range(0,5):\n",
        "  print('*')"
      ]
    },
    {
      "cell_type": "code",
      "execution_count": 3,
      "metadata": {
        "colab": {
          "base_uri": "https://localhost:8080/"
        },
        "id": "RSEYN6GOoByg",
        "outputId": "f52f4707-54b2-44d0-cb74-43aae6ce5191"
      },
      "outputs": [
        {
          "name": "stdout",
          "output_type": "stream",
          "text": [
            "* * * * * "
          ]
        }
      ],
      "source": [
        "for i in range(0,5):\n",
        "  print('*',end=' ')"
      ]
    },
    {
      "cell_type": "code",
      "execution_count": 6,
      "metadata": {
        "colab": {
          "base_uri": "https://localhost:8080/"
        },
        "id": "brm12LNToHaO",
        "outputId": "84bfc6e3-1571-4ee6-c8ba-c17f5241b7bf"
      },
      "outputs": [
        {
          "name": "stdout",
          "output_type": "stream",
          "text": [
            "* * * * * *\n",
            "* * * * * *\n",
            "* * * * * *\n",
            "* * * * * *\n",
            "* * * * * *\n"
          ]
        }
      ],
      "source": [
        "for j in range(0,5):\n",
        "  for i in range(0,5):\n",
        "      print('*',end=' ')\n",
        "  print('*',end='\\n')"
      ]
    },
    {
      "cell_type": "code",
      "execution_count": 7,
      "metadata": {
        "colab": {
          "base_uri": "https://localhost:8080/"
        },
        "id": "GiAjmvVDod3c",
        "outputId": "4590b806-d928-43d3-aa1e-e78b1450555d"
      },
      "outputs": [
        {
          "name": "stdout",
          "output_type": "stream",
          "text": [
            "* *\n",
            "* * *\n",
            "* * * *\n",
            "* * * * *\n",
            "* * * * * *\n"
          ]
        }
      ],
      "source": [
        "for j in range(0,5):\n",
        "  for i in range(0,j+1):\n",
        "      print('*',end=' ')\n",
        "  print('*',end='\\n')"
      ]
    },
    {
      "cell_type": "code",
      "execution_count": 18,
      "metadata": {
        "colab": {
          "base_uri": "https://localhost:8080/"
        },
        "id": "Yu1vyo5yokJr",
        "outputId": "ca8a16b4-d7e9-4159-ca76-157919738524"
      },
      "outputs": [
        {
          "name": "stdout",
          "output_type": "stream",
          "text": [
            "* * * * *\n",
            "* * * *\n",
            "* * *\n",
            "* *\n",
            "*\n"
          ]
        }
      ],
      "source": [
        "for j in range(0,5):\n",
        "  for i in range(0,4-j):\n",
        "      print('*',end=' ')\n",
        "  print('*',end='\\n')"
      ]
    },
    {
      "cell_type": "code",
      "execution_count": 46,
      "metadata": {
        "colab": {
          "base_uri": "https://localhost:8080/"
        },
        "id": "X8OsXUMro_GB",
        "outputId": "b388325c-b50a-4706-c11b-92b64238f11d"
      },
      "outputs": [
        {
          "name": "stdout",
          "output_type": "stream",
          "text": [
            "* * * * *\n",
            "  * * * *\n",
            "    * * *\n",
            "      * *\n",
            "        *\n"
          ]
        }
      ],
      "source": [
        "for j in range(0,5):\n",
        "  for k in range(0,j):\n",
        "       print(' ',end=' ')\n",
        "  for i in range(0,4-j):\n",
        "      print('*',end=' ')\n",
        "      #print('*',end='\\n')\n",
        "  print('*',end='\\n')"
      ]
    },
    {
      "cell_type": "code",
      "execution_count": 51,
      "metadata": {
        "colab": {
          "base_uri": "https://localhost:8080/"
        },
        "id": "WDBrVOlkwLVO",
        "outputId": "495fe446-a3ad-449d-b0b5-ddc67db312bc"
      },
      "outputs": [
        {
          "name": "stdout",
          "output_type": "stream",
          "text": [
            "        *  \n",
            "      * *  \n",
            "    * * *  \n",
            "  * * * *  \n",
            "* * * * *  \n"
          ]
        }
      ],
      "source": [
        "for j in range(0,5):\n",
        "  for k in range(0,5-1-j):\n",
        "       print(' ',end=' ')\n",
        "  for i in range(0,j+1):\n",
        "      print('*',end=' ')\n",
        "      #print('*',end='\\n')\n",
        "  print(' ',end='\\n')"
      ]
    }
  ],
  "metadata": {
    "colab": {
      "provenance": []
    },
    "kernelspec": {
      "display_name": "Python 3",
      "name": "python3"
    },
    "language_info": {
      "name": "python"
    }
  },
  "nbformat": 4,
  "nbformat_minor": 0
}
