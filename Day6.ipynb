{
  "cells": [
    {
      "cell_type": "code",
      "execution_count": null,
      "metadata": {
        "id": "-PYpgi9cskEs"
      },
      "outputs": [],
      "source": [
        "#Exception handling"
      ]
    },
    {
      "cell_type": "code",
      "execution_count": 2,
      "metadata": {
        "colab": {
          "base_uri": "https://localhost:8080/",
          "height": 110
        },
        "id": "aRtHR5Rhss90",
        "outputId": "ee6b45f9-557f-46b2-d8c8-1a3c5dcd7e4c"
      },
      "outputs": [
        {
          "ename": "SyntaxError",
          "evalue": "expected ':' (<ipython-input-2-e5df0d6c95f5>, line 3)",
          "output_type": "error",
          "traceback": [
            "\u001b[0;36m  File \u001b[0;32m\"<ipython-input-2-e5df0d6c95f5>\"\u001b[0;36m, line \u001b[0;32m3\u001b[0m\n\u001b[0;31m    if a==b\u001b[0m\n\u001b[0m           ^\u001b[0m\n\u001b[0;31mSyntaxError\u001b[0m\u001b[0;31m:\u001b[0m expected ':'\n"
          ]
        }
      ],
      "source": [
        "#Compile Time Error\n",
        "#Syntax Error-we can rectify easily\n",
        "if a==b\n",
        "  print(\"Hi!\")\n",
        "  else:\n",
        "    print(\"Bye!\")"
      ]
    },
    {
      "cell_type": "code",
      "execution_count": 3,
      "metadata": {
        "colab": {
          "base_uri": "https://localhost:8080/",
          "height": 237
        },
        "id": "ARX3rVfFs8Ka",
        "outputId": "834a72f6-6a62-4ce7-a0e5-2087483c6c46"
      },
      "outputs": [
        {
          "name": "stdout",
          "output_type": "stream",
          "text": [
            "Provide the index\n",
            "6\n"
          ]
        },
        {
          "ename": "IndexError",
          "evalue": "list index out of range",
          "output_type": "error",
          "traceback": [
            "\u001b[0;31m---------------------------------------------------------------------------\u001b[0m",
            "\u001b[0;31mIndexError\u001b[0m                                Traceback (most recent call last)",
            "\u001b[0;32m<ipython-input-3-fbc035918a51>\u001b[0m in \u001b[0;36m<cell line: 0>\u001b[0;34m()\u001b[0m\n\u001b[1;32m      3\u001b[0m \u001b[0mprint\u001b[0m\u001b[0;34m(\u001b[0m\u001b[0;34m\"Provide the index\"\u001b[0m\u001b[0;34m)\u001b[0m\u001b[0;34m\u001b[0m\u001b[0;34m\u001b[0m\u001b[0m\n\u001b[1;32m      4\u001b[0m \u001b[0mi\u001b[0m\u001b[0;34m=\u001b[0m\u001b[0mint\u001b[0m\u001b[0;34m(\u001b[0m\u001b[0minput\u001b[0m\u001b[0;34m(\u001b[0m\u001b[0;34m)\u001b[0m\u001b[0;34m)\u001b[0m\u001b[0;34m\u001b[0m\u001b[0;34m\u001b[0m\u001b[0m\n\u001b[0;32m----> 5\u001b[0;31m \u001b[0mprint\u001b[0m\u001b[0;34m(\u001b[0m\u001b[0ml\u001b[0m\u001b[0;34m[\u001b[0m\u001b[0mi\u001b[0m\u001b[0;34m]\u001b[0m\u001b[0;34m)\u001b[0m\u001b[0;34m\u001b[0m\u001b[0;34m\u001b[0m\u001b[0m\n\u001b[0m\u001b[1;32m      6\u001b[0m \u001b[0mprint\u001b[0m\u001b[0;34m(\u001b[0m\u001b[0;34m\"Bye\"\u001b[0m\u001b[0;34m)\u001b[0m\u001b[0;34m\u001b[0m\u001b[0;34m\u001b[0m\u001b[0m\n",
            "\u001b[0;31mIndexError\u001b[0m: list index out of range"
          ]
        }
      ],
      "source": [
        "#Run Time Error\n",
        "l=[1,2,3,4]\n",
        "print(\"Provide the index\")\n",
        "i=int(input())\n",
        "print(l[i])\n",
        "print(\"Bye\")\n"
      ]
    },
    {
      "cell_type": "code",
      "execution_count": 7,
      "metadata": {
        "colab": {
          "base_uri": "https://localhost:8080/"
        },
        "id": "QdYd0Hnzuaqt",
        "outputId": "511a7ace-ba18-4977-b2d4-8622c53cd431"
      },
      "outputs": [
        {
          "name": "stdout",
          "output_type": "stream",
          "text": [
            "Provide the index\n",
            "4\n",
            "Provide a valid index\n",
            "Bye\n"
          ]
        }
      ],
      "source": [
        "#To rectify the Errors we are using Exception Handling\n",
        "#Using try and Except blocks\n",
        "l=[1,2,3,4]\n",
        "print(\"Provide the index\")\n",
        "try:\n",
        "  i=int(input())\n",
        "  print(l[i])\n",
        "except:\n",
        "  print(\"Provide a valid index\")\n",
        "print(\"Bye\")"
      ]
    },
    {
      "cell_type": "code",
      "execution_count": 9,
      "metadata": {
        "colab": {
          "base_uri": "https://localhost:8080/"
        },
        "id": "kVhJIAkrvTjE",
        "outputId": "c21df34f-c983-465b-e845-a440fc8dde5d"
      },
      "outputs": [
        {
          "name": "stdout",
          "output_type": "stream",
          "text": [
            "Hi\n",
            "Provide the index\n",
            "0\n",
            "Zero cannot be Denominator\n",
            "Here it is Finally \n",
            "Bye\n"
          ]
        }
      ],
      "source": [
        "l=[1,2,3,4]\n",
        "print(\"Hi\")\n",
        "print(\"Provide the index\")\n",
        "i=int(input())\n",
        "try:\n",
        "  c=5/i\n",
        "  print(l[i])\n",
        "except ZeroDivisionError:\n",
        "    print(\"Zero cannot be Denominator\")\n",
        "except Exception as e:\n",
        "  print(\"There is Run Time Error\")\n",
        "finally:\n",
        "  print(\"Here it is Finally\n",
        "   \")\n",
        "print(\"Bye\")"
      ]
    }
  ],
  "metadata": {
    "colab": {
      "provenance": []
    },
    "kernelspec": {
      "display_name": "Python 3",
      "name": "python3"
    },
    "language_info": {
      "name": "python"
    }
  },
  "nbformat": 4,
  "nbformat_minor": 0
}
