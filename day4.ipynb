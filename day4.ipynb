{
  "cells": [
    {
      "cell_type": "code",
      "execution_count": null,
      "metadata": {
        "colab": {
          "base_uri": "https://localhost:8080/"
        },
        "id": "qLhGRUcA8gIQ",
        "outputId": "b6f50527-035f-4051-8821-d22392d48f29"
      },
      "outputs": [
        {
          "name": "stdout",
          "output_type": "stream",
          "text": [
            "<class 'str'>\n"
          ]
        }
      ],
      "source": [
        "a='Harika'\n",
        "print(type(a))"
      ]
    },
    {
      "cell_type": "code",
      "execution_count": null,
      "metadata": {
        "colab": {
          "base_uri": "https://localhost:8080/"
        },
        "id": "zfBe4AES8pIT",
        "outputId": "7b47ecab-d9ef-4d0c-8cef-c111255ff169"
      },
      "outputs": [
        {
          "name": "stdout",
          "output_type": "stream",
          "text": [
            "i\n",
            "a\n"
          ]
        }
      ],
      "source": [
        "print(a[3])\n",
        "print(a[-1])"
      ]
    },
    {
      "cell_type": "code",
      "execution_count": null,
      "metadata": {
        "colab": {
          "base_uri": "https://localhost:8080/"
        },
        "id": "5UseTb5F91OC",
        "outputId": "b50a601e-9e13-4df6-9e0f-007251347764"
      },
      "outputs": [
        {
          "name": "stdout",
          "output_type": "stream",
          "text": [
            "i am\n",
            "harika\n"
          ]
        }
      ],
      "source": [
        "b=\"\"\"i am\n",
        "harika\"\"\"\n",
        "print(b)"
      ]
    },
    {
      "cell_type": "code",
      "execution_count": null,
      "metadata": {
        "colab": {
          "base_uri": "https://localhost:8080/"
        },
        "id": "kaWwXre299RZ",
        "outputId": "655c1f61-be02-4d63-80c2-bc6a2dae2d34"
      },
      "outputs": [
        {
          "name": "stdout",
          "output_type": "stream",
          "text": [
            "6\n",
            "11\n"
          ]
        }
      ],
      "source": [
        "print(len(a))\n",
        "print(len(b))"
      ]
    },
    {
      "cell_type": "code",
      "execution_count": null,
      "metadata": {
        "colab": {
          "base_uri": "https://localhost:8080/",
          "height": 36
        },
        "id": "7V1sglIn-DXT",
        "outputId": "9f321ebe-7ebb-4704-a2bb-482c1dc43020"
      },
      "outputs": [
        {
          "data": {
            "application/vnd.google.colaboratory.intrinsic+json": {
              "type": "string"
            },
            "text/plain": [
              "'Harika'"
            ]
          },
          "execution_count": 16,
          "metadata": {},
          "output_type": "execute_result"
        }
      ],
      "source": [
        "a"
      ]
    },
    {
      "cell_type": "code",
      "execution_count": null,
      "metadata": {
        "id": "AJ7YWzVa-T0q"
      },
      "outputs": [],
      "source": [
        "del a"
      ]
    },
    {
      "cell_type": "code",
      "execution_count": null,
      "metadata": {
        "colab": {
          "base_uri": "https://localhost:8080/",
          "height": 146
        },
        "id": "74flHbIJ-WfG",
        "outputId": "b9a84b50-8776-4e01-a20c-a8d74a9a26d7"
      },
      "outputs": [
        {
          "ename": "NameError",
          "evalue": "name 'a' is not defined",
          "output_type": "error",
          "traceback": [
            "\u001b[0;31m---------------------------------------------------------------------------\u001b[0m",
            "\u001b[0;31mNameError\u001b[0m                                 Traceback (most recent call last)",
            "\u001b[0;32m<ipython-input-18-3f786850e387>\u001b[0m in \u001b[0;36m<cell line: 0>\u001b[0;34m()\u001b[0m\n\u001b[0;32m----> 1\u001b[0;31m \u001b[0ma\u001b[0m\u001b[0;34m\u001b[0m\u001b[0;34m\u001b[0m\u001b[0m\n\u001b[0m",
            "\u001b[0;31mNameError\u001b[0m: name 'a' is not defined"
          ]
        }
      ],
      "source": [
        "a"
      ]
    },
    {
      "cell_type": "code",
      "execution_count": null,
      "metadata": {
        "colab": {
          "base_uri": "https://localhost:8080/"
        },
        "id": "tnf6XOeR-YeH",
        "outputId": "0235f854-d662-4302-e721-4b7abf2448bc"
      },
      "outputs": [
        {
          "name": "stdout",
          "output_type": "stream",
          "text": [
            "HarikaVani\n",
            "Harika Vani\n"
          ]
        }
      ],
      "source": [
        "m='Harika'\n",
        "n='Vani'\n",
        "p=m+n\n",
        "print(p)\n",
        "q=m+' '+n\n",
        "print(q)"
      ]
    },
    {
      "cell_type": "code",
      "execution_count": null,
      "metadata": {
        "colab": {
          "base_uri": "https://localhost:8080/"
        },
        "id": "ydQuRcHW-p8B",
        "outputId": "d0e0040f-ff14-4f33-e80c-ba73a6c8e79e"
      },
      "outputs": [
        {
          "name": "stdout",
          "output_type": "stream",
          "text": [
            "H a r i k a V a n i "
          ]
        }
      ],
      "source": [
        "for i in p:\n",
        "  print(i,end=' ')"
      ]
    },
    {
      "cell_type": "code",
      "execution_count": null,
      "metadata": {
        "colab": {
          "base_uri": "https://localhost:8080/"
        },
        "id": "TJpHlJI8--CZ",
        "outputId": "dbca4af4-8360-4a3f-b5ba-70de60ae1565"
      },
      "outputs": [
        {
          "data": {
            "text/plain": [
              "True"
            ]
          },
          "execution_count": 22,
          "metadata": {},
          "output_type": "execute_result"
        }
      ],
      "source": [
        "'a' in m\n",
        "'b' in n\n",
        "'b' not in n"
      ]
    },
    {
      "cell_type": "code",
      "execution_count": null,
      "metadata": {
        "colab": {
          "base_uri": "https://localhost:8080/"
        },
        "id": "NkeI0cOs_SFp",
        "outputId": "229c5d2f-3577-4b59-e007-16237a671e54"
      },
      "outputs": [
        {
          "data": {
            "text/plain": [
              "False"
            ]
          },
          "execution_count": 24,
          "metadata": {},
          "output_type": "execute_result"
        }
      ],
      "source": [
        "'b' in n\n"
      ]
    },
    {
      "cell_type": "code",
      "execution_count": null,
      "metadata": {
        "colab": {
          "base_uri": "https://localhost:8080/"
        },
        "id": "eXI0AtmR_V80",
        "outputId": "d801c51b-3823-43ba-9aae-dfb84b1e6e72"
      },
      "outputs": [
        {
          "name": "stdout",
          "output_type": "stream",
          "text": [
            "Harika \n",
            " Vani\n",
            "Harika \t Vani\n",
            "Harika \u000b Vani\n",
            "Harika \r Vani\n"
          ]
        }
      ],
      "source": [
        "print('Harika \\n Vani')\n",
        "print(\"Harika \\t Vani\")\n",
        "print(\"Harika \\v Vani\")\n",
        "print(\"Harika \\r Vani\")"
      ]
    },
    {
      "cell_type": "code",
      "execution_count": null,
      "metadata": {
        "colab": {
          "base_uri": "https://localhost:8080/"
        },
        "id": "A8GVgxxy_u-D",
        "outputId": "8ab6e2a3-9951-45f3-8d28-e723b46a7afc"
      },
      "outputs": [
        {
          "name": "stdout",
          "output_type": "stream",
          "text": [
            "\\n\n"
          ]
        }
      ],
      "source": [
        "print(r'\\n')"
      ]
    },
    {
      "cell_type": "code",
      "execution_count": null,
      "metadata": {
        "colab": {
          "base_uri": "https://localhost:8080/"
        },
        "id": "BYJ0ptYX_4YQ",
        "outputId": "732242d8-8b71-49ea-afaf-4b7b5000dc73"
      },
      "outputs": [
        {
          "name": "stdout",
          "output_type": "stream",
          "text": [
            "Enter your name: harika\n",
            "Hi harika, How are you?\n"
          ]
        }
      ],
      "source": [
        "name=input('Enter your name: ')\n",
        "print('Hi {}, How are you?'.format(name))"
      ]
    },
    {
      "cell_type": "code",
      "execution_count": null,
      "metadata": {
        "colab": {
          "base_uri": "https://localhost:8080/"
        },
        "id": "dnTg9pczAPMq",
        "outputId": "874bce27-0295-4f3a-f764-2921fdaaa8fb"
      },
      "outputs": [
        {
          "name": "stdout",
          "output_type": "stream",
          "text": [
            "HARIKA\n",
            "harika\n"
          ]
        }
      ],
      "source": [
        "c='HARika'\n",
        "print(c.upper())\n",
        "print(c.lower())"
      ]
    },
    {
      "cell_type": "code",
      "execution_count": null,
      "metadata": {
        "colab": {
          "base_uri": "https://localhost:8080/"
        },
        "id": "YIWwsMMpAaeK",
        "outputId": "08f0e2de-e425-4290-be9c-7d1d402e37a6"
      },
      "outputs": [
        {
          "data": {
            "text/plain": [
              "['a', 'b', 'c', 'd']"
            ]
          },
          "execution_count": 33,
          "metadata": {},
          "output_type": "execute_result"
        }
      ],
      "source": [
        "words='a-b-c-d'\n",
        "words.split('-')"
      ]
    },
    {
      "cell_type": "code",
      "execution_count": null,
      "metadata": {
        "colab": {
          "base_uri": "https://localhost:8080/"
        },
        "id": "SEnfG5DaGWLq",
        "outputId": "4575dd16-982f-4bce-b590-f0f29eba61ae"
      },
      "outputs": [
        {
          "name": "stdout",
          "output_type": "stream",
          "text": [
            "They are same\n"
          ]
        }
      ],
      "source": [
        "s = \"abcd\"\n",
        "a=\"abcd\"\n",
        "if id(s) == id(a):\n",
        "  print(\"They are same\")\n",
        "else:\n",
        "  print(\"Not same\")"
      ]
    },
    {
      "cell_type": "code",
      "execution_count": null,
      "metadata": {
        "colab": {
          "base_uri": "https://localhost:8080/"
        },
        "id": "mSlV8wJ1I1RP",
        "outputId": "96465e4b-a5b4-424e-86fa-15d363f9f504"
      },
      "outputs": [
        {
          "name": "stdout",
          "output_type": "stream",
          "text": [
            "Hello world\n",
            "2\n"
          ]
        }
      ],
      "source": [
        "string=input()\n",
        "ans=0\n",
        "for i in string:\n",
        "  if i == ' ':\n",
        "    ans = ans+1\n",
        "ans = ans+1\n",
        "print(ans)"
      ]
    },
    {
      "cell_type": "code",
      "execution_count": null,
      "metadata": {
        "id": "VYSOBDCW7kuY"
      },
      "outputs": [],
      "source": [
        "#lists and Tuples"
      ]
    },
    {
      "cell_type": "code",
      "execution_count": null,
      "metadata": {
        "id": "DRyL3A997nNJ"
      },
      "outputs": [],
      "source": [
        "a=3\n",
        "d=[]\n",
        "d=[1,2,3.5,'Harika']\n",
        "e=(1,2,3.5,'Harika')"
      ]
    },
    {
      "cell_type": "code",
      "execution_count": null,
      "metadata": {
        "colab": {
          "base_uri": "https://localhost:8080/"
        },
        "id": "gfTvK7-5-j80",
        "outputId": "a90b1633-0ffb-40dc-8437-0f3be23a2929"
      },
      "outputs": [
        {
          "data": {
            "text/plain": [
              "tuple"
            ]
          },
          "execution_count": 4,
          "metadata": {},
          "output_type": "execute_result"
        }
      ],
      "source": [
        "type(d)\n",
        "type(e)"
      ]
    },
    {
      "cell_type": "code",
      "execution_count": null,
      "metadata": {
        "colab": {
          "base_uri": "https://localhost:8080/",
          "height": 36
        },
        "id": "IkjB5Scd-4E1",
        "outputId": "5b3a1236-5e76-472f-ef8e-fc2be25246f4"
      },
      "outputs": [
        {
          "data": {
            "application/vnd.google.colaboratory.intrinsic+json": {
              "type": "string"
            },
            "text/plain": [
              "'Harika'"
            ]
          },
          "execution_count": 7,
          "metadata": {},
          "output_type": "execute_result"
        }
      ],
      "source": [
        "d[3]"
      ]
    },
    {
      "cell_type": "code",
      "execution_count": null,
      "metadata": {
        "id": "koOPOtgW_LtB"
      },
      "outputs": [],
      "source": [
        "f=[1,2,1,'Hv']\n",
        "G=(1,2,3,1,'HN')"
      ]
    },
    {
      "cell_type": "code",
      "execution_count": null,
      "metadata": {
        "colab": {
          "base_uri": "https://localhost:8080/"
        },
        "id": "FEPc91J0_ZYq",
        "outputId": "4071470c-215f-4dd7-e928-b03e888e43a5"
      },
      "outputs": [
        {
          "name": "stdout",
          "output_type": "stream",
          "text": [
            "[1, 2, 3.5, 'Harika']\n",
            "[2, 3.5]\n",
            "[1, 2, 3.5]\n",
            "[2, 3.5, 'Harika']\n"
          ]
        }
      ],
      "source": [
        "print(d)\n",
        "print(d[1:3])\n",
        "print(d[:3])\n",
        "print(d[1:])"
      ]
    },
    {
      "cell_type": "code",
      "execution_count": null,
      "metadata": {
        "colab": {
          "base_uri": "https://localhost:8080/"
        },
        "id": "_X3AwBiM_hrr",
        "outputId": "7153f345-6d82-43ee-afc2-b7a7299d5924"
      },
      "outputs": [
        {
          "data": {
            "text/plain": [
              "True"
            ]
          },
          "execution_count": 14,
          "metadata": {},
          "output_type": "execute_result"
        }
      ],
      "source": [
        "3.5 in d"
      ]
    },
    {
      "cell_type": "code",
      "execution_count": null,
      "metadata": {
        "colab": {
          "base_uri": "https://localhost:8080/"
        },
        "id": "Zr2wO0q0_uFD",
        "outputId": "6ce8a006-b998-4af3-d127-0ddd11a91f6b"
      },
      "outputs": [
        {
          "data": {
            "text/plain": [
              "False"
            ]
          },
          "execution_count": 15,
          "metadata": {},
          "output_type": "execute_result"
        }
      ],
      "source": [
        "'H' in d"
      ]
    },
    {
      "cell_type": "code",
      "execution_count": null,
      "metadata": {
        "colab": {
          "base_uri": "https://localhost:8080/"
        },
        "id": "xDpbmxiH_1hI",
        "outputId": "854c3997-82e2-4819-be32-624c78d4e251"
      },
      "outputs": [
        {
          "data": {
            "text/plain": [
              "1"
            ]
          },
          "execution_count": 16,
          "metadata": {},
          "output_type": "execute_result"
        }
      ],
      "source": [
        "d[0]"
      ]
    },
    {
      "cell_type": "code",
      "execution_count": null,
      "metadata": {
        "colab": {
          "base_uri": "https://localhost:8080/"
        },
        "id": "nkKhTSH6_42W",
        "outputId": "7e5f8c61-b323-4556-bce7-cf06e61d27a2"
      },
      "outputs": [
        {
          "name": "stdout",
          "output_type": "stream",
          "text": [
            "['True', 2, 3.5, 'Harika']\n"
          ]
        }
      ],
      "source": [
        "d[0]='True'\n",
        "print(d)"
      ]
    },
    {
      "cell_type": "code",
      "execution_count": null,
      "metadata": {
        "colab": {
          "base_uri": "https://localhost:8080/"
        },
        "id": "jVj-jk1k_--f",
        "outputId": "235ef8c5-5ded-4fc5-c247-935c5ed576a6"
      },
      "outputs": [
        {
          "name": "stdout",
          "output_type": "stream",
          "text": [
            "['True', 2, 3.5, 65, 'Harika', 65, 65]\n"
          ]
        }
      ],
      "source": [
        "d.insert(3,65)\n",
        "print(d)"
      ]
    },
    {
      "cell_type": "code",
      "execution_count": null,
      "metadata": {
        "colab": {
          "base_uri": "https://localhost:8080/"
        },
        "id": "bXr9UuGaAXrY",
        "outputId": "95cbb0ee-f168-4533-883c-5b0cdfb84c31"
      },
      "outputs": [
        {
          "name": "stdout",
          "output_type": "stream",
          "text": [
            "['True', 2, 3.5, 65, 'Harika', 65, 65, 'false']\n"
          ]
        }
      ],
      "source": [
        "d.append('false')\n",
        "print(d)"
      ]
    },
    {
      "cell_type": "code",
      "execution_count": null,
      "metadata": {
        "colab": {
          "base_uri": "https://localhost:8080/"
        },
        "id": "FSVPd7IyAfwi",
        "outputId": "fbf9f19e-ce60-4ed6-fa64-abbbbd6c8ca7"
      },
      "outputs": [
        {
          "name": "stdout",
          "output_type": "stream",
          "text": [
            "['True', 2, 3.5, 65, 'Harika', 65, 65, 'false', 3.4, 6, 7]\n"
          ]
        }
      ],
      "source": [
        "p=[3.4,6,7]\n",
        "d.extend(p)\n",
        "print(d)"
      ]
    },
    {
      "cell_type": "code",
      "execution_count": null,
      "metadata": {
        "colab": {
          "base_uri": "https://localhost:8080/",
          "height": 164
        },
        "id": "_p3vyceCArtV",
        "outputId": "4f7733d9-82d1-4c38-e82d-04ffc477f46a"
      },
      "outputs": [
        {
          "ename": "AttributeError",
          "evalue": "'tuple' object has no attribute 'append'",
          "output_type": "error",
          "traceback": [
            "\u001b[0;31m---------------------------------------------------------------------------\u001b[0m",
            "\u001b[0;31mAttributeError\u001b[0m                            Traceback (most recent call last)",
            "\u001b[0;32m<ipython-input-26-43f433ac565c>\u001b[0m in \u001b[0;36m<cell line: 0>\u001b[0;34m()\u001b[0m\n\u001b[0;32m----> 1\u001b[0;31m \u001b[0me\u001b[0m\u001b[0;34m.\u001b[0m\u001b[0mappend\u001b[0m\u001b[0;34m(\u001b[0m\u001b[0mp\u001b[0m\u001b[0;34m)\u001b[0m\u001b[0;34m\u001b[0m\u001b[0;34m\u001b[0m\u001b[0m\n\u001b[0m\u001b[1;32m      2\u001b[0m \u001b[0mprint\u001b[0m\u001b[0;34m(\u001b[0m\u001b[0me\u001b[0m\u001b[0;34m)\u001b[0m\u001b[0;34m\u001b[0m\u001b[0;34m\u001b[0m\u001b[0m\n",
            "\u001b[0;31mAttributeError\u001b[0m: 'tuple' object has no attribute 'append'"
          ]
        }
      ],
      "source": [
        "e.append(p)"
      ]
    },
    {
      "cell_type": "code",
      "execution_count": null,
      "metadata": {
        "colab": {
          "base_uri": "https://localhost:8080/"
        },
        "id": "M0ZY_gTmAyfJ",
        "outputId": "bce0a5b0-d6d4-4ef3-edfe-7459b5a9e182"
      },
      "outputs": [
        {
          "name": "stdout",
          "output_type": "stream",
          "text": [
            "(1, 2, 3.5, 'Harika')\n"
          ]
        }
      ],
      "source": [
        "print(e)"
      ]
    },
    {
      "cell_type": "code",
      "execution_count": null,
      "metadata": {
        "colab": {
          "base_uri": "https://localhost:8080/"
        },
        "id": "g7fh4F_CA2Rq",
        "outputId": "3509d06e-7310-413f-ccdf-f7e9d297f1ef"
      },
      "outputs": [
        {
          "name": "stdout",
          "output_type": "stream",
          "text": [
            "True\n",
            "2\n",
            "3.5\n",
            "65\n",
            "Harika\n",
            "65\n",
            "65\n",
            "false\n",
            "3.4\n",
            "6\n",
            "7\n"
          ]
        }
      ],
      "source": [
        "for vani in d:\n",
        "  print(vani)"
      ]
    },
    {
      "cell_type": "code",
      "execution_count": null,
      "metadata": {
        "colab": {
          "base_uri": "https://localhost:8080/"
        },
        "id": "bNfKGv7yA-Jv",
        "outputId": "79c1ab3b-874c-453e-a3cb-434513e46706"
      },
      "outputs": [
        {
          "name": "stdout",
          "output_type": "stream",
          "text": [
            "1\n",
            "2\n",
            "3.5\n",
            "Harika\n"
          ]
        }
      ],
      "source": [
        "for x in e:\n",
        "  print(x)\n"
      ]
    },
    {
      "cell_type": "code",
      "execution_count": 6,
      "metadata": {
        "id": "lPgI2mfw2ZuC"
      },
      "outputs": [],
      "source": [
        "a={1,2,3.5,'Harika'}"
      ]
    },
    {
      "cell_type": "code",
      "execution_count": 7,
      "metadata": {
        "colab": {
          "base_uri": "https://localhost:8080/"
        },
        "id": "8i_GqKSb2nlV",
        "outputId": "e23e8dd2-2998-4b88-cd9b-8864b5ea11de"
      },
      "outputs": [
        {
          "data": {
            "text/plain": [
              "set"
            ]
          },
          "execution_count": 7,
          "metadata": {},
          "output_type": "execute_result"
        }
      ],
      "source": [
        "type(a)"
      ]
    },
    {
      "cell_type": "code",
      "execution_count": 8,
      "metadata": {
        "colab": {
          "base_uri": "https://localhost:8080/"
        },
        "id": "ea-thvhs2r3B",
        "outputId": "8a66928c-4a8c-40f6-e1bf-e527c3121071"
      },
      "outputs": [
        {
          "name": "stdout",
          "output_type": "stream",
          "text": [
            "{1, 2, 3.5, 'Harika'}\n"
          ]
        }
      ],
      "source": [
        "print(a)"
      ]
    },
    {
      "cell_type": "code",
      "execution_count": 16,
      "metadata": {
        "colab": {
          "base_uri": "https://localhost:8080/"
        },
        "id": "ttzCfO522uA5",
        "outputId": "7fa9aca4-d503-4b44-94c6-53e6e27bec3f"
      },
      "outputs": [
        {
          "name": "stdout",
          "output_type": "stream",
          "text": [
            "{1, 2, 3.6, 3.5, 5, 'Harika'}\n",
            "{1, 2, 3.6, 3.5, 5, 4, 'Harika'}\n"
          ]
        }
      ],
      "source": [
        "a.add(5)\n",
        "print(a)\n",
        "a.add(4)\n",
        "print(a)"
      ]
    },
    {
      "cell_type": "code",
      "execution_count": null,
      "metadata": {
        "id": "g6kKnxUbh40d"
      },
      "outputs": [],
      "source": [
        "#dictionaries"
      ]
    },
    {
      "cell_type": "code",
      "execution_count": 1,
      "metadata": {
        "colab": {
          "base_uri": "https://localhost:8080/"
        },
        "id": "3Mbbbx6ph71T",
        "outputId": "c770d17c-3dd8-48f3-c6e5-53b7eb5438b7"
      },
      "outputs": [
        {
          "name": "stdout",
          "output_type": "stream",
          "text": [
            "{'name': 'Hv', 'age': 20, 'marks1': 98.5, 'marks2': 100}\n"
          ]
        }
      ],
      "source": [
        "b={'name':'Hv','age':20,'marks1':98.5,'marks2':100}\n",
        "print(b)"
      ]
    },
    {
      "cell_type": "code",
      "execution_count": 2,
      "metadata": {
        "colab": {
          "base_uri": "https://localhost:8080/"
        },
        "id": "Y9wYOEKuiY9U",
        "outputId": "c3975b67-607f-431c-b5e5-fc0c3309d874"
      },
      "outputs": [
        {
          "name": "stdout",
          "output_type": "stream",
          "text": [
            "dict_keys(['name', 'age', 'marks1', 'marks2'])\n"
          ]
        }
      ],
      "source": [
        "x=b.keys()\n",
        "print(x)"
      ]
    },
    {
      "cell_type": "code",
      "execution_count": 3,
      "metadata": {
        "colab": {
          "base_uri": "https://localhost:8080/"
        },
        "id": "XB9-jAjcipNq",
        "outputId": "43deffed-d4c5-421c-e206-66cf1f0149c4"
      },
      "outputs": [
        {
          "name": "stdout",
          "output_type": "stream",
          "text": [
            "name\n",
            "age\n",
            "marks1\n",
            "marks2\n"
          ]
        }
      ],
      "source": [
        "for i in b:\n",
        "  print(i)"
      ]
    },
    {
      "cell_type": "code",
      "execution_count": 4,
      "metadata": {
        "colab": {
          "base_uri": "https://localhost:8080/"
        },
        "id": "Vdnp5roiisyf",
        "outputId": "9caf81fe-debb-4f2e-addd-52eb1356d09a"
      },
      "outputs": [
        {
          "name": "stdout",
          "output_type": "stream",
          "text": [
            "dict_values(['Hv', 20, 98.5, 100])\n"
          ]
        }
      ],
      "source": [
        "y=b.values()\n",
        "print(y)"
      ]
    },
    {
      "cell_type": "code",
      "execution_count": 5,
      "metadata": {
        "colab": {
          "base_uri": "https://localhost:8080/"
        },
        "id": "phsvQtJxiyq7",
        "outputId": "39888c53-8676-406c-aab9-e47033631455"
      },
      "outputs": [
        {
          "name": "stdout",
          "output_type": "stream",
          "text": [
            "<class 'dict_values'>\n"
          ]
        }
      ],
      "source": [
        "print(type(y))\n"
      ]
    },
    {
      "cell_type": "code",
      "execution_count": 7,
      "metadata": {
        "colab": {
          "base_uri": "https://localhost:8080/"
        },
        "id": "0BpDxxLZi4f4",
        "outputId": "94cb49e7-6800-496c-a0eb-dc8770cbd579"
      },
      "outputs": [
        {
          "name": "stdout",
          "output_type": "stream",
          "text": [
            "dict_items([('name', 'Hv'), ('age', 20), ('marks1', 98.5), ('marks2', 100)])\n"
          ]
        }
      ],
      "source": [
        "z=b.items()\n",
        "print(z)"
      ]
    },
    {
      "cell_type": "code",
      "execution_count": 11,
      "metadata": {
        "colab": {
          "base_uri": "https://localhost:8080/"
        },
        "id": "3jHH8zzMjfSQ",
        "outputId": "060b3281-e234-4068-be82-1d53412d20d7"
      },
      "outputs": [
        {
          "data": {
            "text/plain": [
              "True"
            ]
          },
          "execution_count": 11,
          "metadata": {},
          "output_type": "execute_result"
        }
      ],
      "source": [
        "'age' in b"
      ]
    },
    {
      "cell_type": "code",
      "execution_count": 12,
      "metadata": {
        "colab": {
          "base_uri": "https://localhost:8080/"
        },
        "id": "832RUoSmjkYz",
        "outputId": "b5085605-bba0-41e6-ecb0-10d1e307d67b"
      },
      "outputs": [
        {
          "data": {
            "text/plain": [
              "True"
            ]
          },
          "execution_count": 12,
          "metadata": {},
          "output_type": "execute_result"
        }
      ],
      "source": [
        "'hobbies' in b"
      ]
    },
    {
      "cell_type": "code",
      "execution_count": 13,
      "metadata": {
        "colab": {
          "base_uri": "https://localhost:8080/"
        },
        "id": "AeUB0X-njAD-",
        "outputId": "8661f8d6-f837-4b0b-c7fe-ec78fc90ee57"
      },
      "outputs": [
        {
          "data": {
            "text/plain": [
              "dict_values(['Hv', 11, 98.5, 100, ['playing games', 'Reading books']])"
            ]
          },
          "execution_count": 13,
          "metadata": {},
          "output_type": "execute_result"
        }
      ],
      "source": [
        "b.update({'age':11})\n",
        "b.values()"
      ]
    },
    {
      "cell_type": "code",
      "execution_count": 14,
      "metadata": {
        "colab": {
          "base_uri": "https://localhost:8080/"
        },
        "id": "MOrmJ6f-jKZH",
        "outputId": "b7f3d0cb-3ee0-4403-9573-d8d0c9db0af4"
      },
      "outputs": [
        {
          "data": {
            "text/plain": [
              "{'name': 'Hv',\n",
              " 'age': 11,\n",
              " 'marks1': 98.5,\n",
              " 'marks2': 100,\n",
              " 'hobbies': ['playing games', 'Reading books']}"
            ]
          },
          "execution_count": 14,
          "metadata": {},
          "output_type": "execute_result"
        }
      ],
      "source": [
        "b['hobbies']=['playing games','Reading books']\n",
        "b"
      ]
    }
  ],
  "metadata": {
    "colab": {
      "provenance": []
    },
    "kernelspec": {
      "display_name": "Python 3",
      "name": "python3"
    },
    "language_info": {
      "name": "python"
    }
  },
  "nbformat": 4,
  "nbformat_minor": 0
}
