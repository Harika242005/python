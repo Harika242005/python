{
  "cells": [
    {
      "cell_type": "code",
      "execution_count": 1,
      "metadata": {
        "id": "FwJI4NQa16c6"
      },
      "outputs": [],
      "source": [
        "def myfunction():\n",
        "  print('Hello my world')"
      ]
    },
    {
      "cell_type": "code",
      "execution_count": 2,
      "metadata": {
        "colab": {
          "base_uri": "https://localhost:8080/"
        },
        "id": "6ndhiKAL2Sbj",
        "outputId": "60799c7d-404e-41a9-ca97-d11bd1c6d106"
      },
      "outputs": [
        {
          "name": "stdout",
          "output_type": "stream",
          "text": [
            "Hello my world\n"
          ]
        }
      ],
      "source": [
        "myfunction()"
      ]
    },
    {
      "cell_type": "code",
      "execution_count": 3,
      "metadata": {
        "id": "itJ9tq622WBd"
      },
      "outputs": [],
      "source": [
        "#one Argument\n",
        "def my_one(name):\n",
        "  print('Hi',name)"
      ]
    },
    {
      "cell_type": "code",
      "execution_count": 6,
      "metadata": {
        "colab": {
          "base_uri": "https://localhost:8080/"
        },
        "id": "I9Dp8vbV2nRE",
        "outputId": "1f3f920b-8bf7-41d6-dcb5-2ca55282cd70"
      },
      "outputs": [
        {
          "name": "stdout",
          "output_type": "stream",
          "text": [
            "Hi Harika\n"
          ]
        }
      ],
      "source": [
        "my_one('Harika')"
      ]
    },
    {
      "cell_type": "code",
      "execution_count": 7,
      "metadata": {
        "id": "rErIZo0J20-k"
      },
      "outputs": [],
      "source": [
        "#Two Arguments\n",
        "def my_two(name,age):\n",
        "  print('Hi',name,'your age is',age)\n",
        "def sum(a,b):\n",
        "  print('The sum is',a+b)"
      ]
    },
    {
      "cell_type": "code",
      "execution_count": 8,
      "metadata": {
        "colab": {
          "base_uri": "https://localhost:8080/"
        },
        "id": "-MP-H-0R29l7",
        "outputId": "142acb8e-804d-4542-80b5-eb803bcaede8"
      },
      "outputs": [
        {
          "name": "stdout",
          "output_type": "stream",
          "text": [
            "Hi Harika your age is 20\n",
            "The sum is 9\n"
          ]
        }
      ],
      "source": [
        "my_two('Harika',20)\n",
        "sum(4,5)"
      ]
    },
    {
      "cell_type": "code",
      "execution_count": 9,
      "metadata": {
        "id": "TEXuggUZ3EA_"
      },
      "outputs": [],
      "source": [
        "#Default Argument\n",
        "def my_default(name='Harika'):\n",
        "  print('Hi',name)\n",
        "def my_default2(a=4,b=5):\n",
        "  print('multiply of a and b',a*b)"
      ]
    },
    {
      "cell_type": "code",
      "execution_count": 18,
      "metadata": {
        "colab": {
          "base_uri": "https://localhost:8080/"
        },
        "id": "0jtPGGzj3jxt",
        "outputId": "8c730820-16b1-45df-e695-737c65172989"
      },
      "outputs": [
        {
          "name": "stdout",
          "output_type": "stream",
          "text": [
            "Hi Harika\n",
            "Hi HV\n",
            "multiply of a and b 20\n",
            "multiply of a and b 40\n",
            "multiply of a and b 32\n"
          ]
        }
      ],
      "source": [
        "my_default()\n",
        "my_default('HV')\n",
        "my_default2()\n",
        "my_default2(a=8)\n",
        "my_default2(b=8)"
      ]
    },
    {
      "cell_type": "code",
      "execution_count": 19,
      "metadata": {
        "id": "5QigeCEO4KhH"
      },
      "outputs": [],
      "source": [
        "#function Return type\n",
        "def find_square(a):\n",
        "  result=a*a\n",
        "  return result"
      ]
    },
    {
      "cell_type": "code",
      "execution_count": 21,
      "metadata": {
        "colab": {
          "base_uri": "https://localhost:8080/"
        },
        "id": "0ONNmhvZ4taD",
        "outputId": "59f4b1ca-9523-4105-b84d-99a3c87543de"
      },
      "outputs": [
        {
          "name": "stdout",
          "output_type": "stream",
          "text": [
            "4\n"
          ]
        }
      ],
      "source": [
        "n=find_square(2)\n",
        "print(n)"
      ]
    },
    {
      "cell_type": "code",
      "execution_count": 9,
      "metadata": {
        "colab": {
          "base_uri": "https://localhost:8080/"
        },
        "id": "x6svxEwQ44E_",
        "outputId": "87d0c37c-9e80-433e-b959-fe66b00daf80"
      },
      "outputs": [
        {
          "data": {
            "text/plain": [
              "-6"
            ]
          },
          "execution_count": 9,
          "metadata": {},
          "output_type": "execute_result"
        }
      ],
      "source": [
        "def find_sub(a,b):\n",
        "  result=a-b\n",
        "  return result\n",
        "find_sub(2,8)"
      ]
    },
    {
      "cell_type": "code",
      "execution_count": 28,
      "metadata": {
        "colab": {
          "base_uri": "https://localhost:8080/"
        },
        "id": "ZQN-a86q6Bvh",
        "outputId": "72afa123-3828-4097-cf69-481617dd7ab5"
      },
      "outputs": [
        {
          "name": "stdout",
          "output_type": "stream",
          "text": [
            "Hi Harika\n"
          ]
        }
      ],
      "source": [
        "def sayhi(name):\n",
        "  \"\"\"Hi function says hello\"\"\"\n",
        "  print('Hi',name)\n",
        "sayhi('Harika')"
      ]
    },
    {
      "cell_type": "code",
      "execution_count": 29,
      "metadata": {
        "colab": {
          "base_uri": "https://localhost:8080/"
        },
        "id": "KQ8rKTmM59A_",
        "outputId": "572945f3-fdfd-4927-c93c-2146dc401193"
      },
      "outputs": [
        {
          "name": "stdout",
          "output_type": "stream",
          "text": [
            "Hi function says hello\n"
          ]
        }
      ],
      "source": [
        "print(sayhi.__doc__)"
      ]
    },
    {
      "cell_type": "code",
      "execution_count": 33,
      "metadata": {
        "colab": {
          "base_uri": "https://localhost:8080/"
        },
        "id": "d7ac6Q507GJ1",
        "outputId": "bd88c503-0ab1-4d11-cdc7-7e7a8c5c59f9"
      },
      "outputs": [
        {
          "data": {
            "text/plain": [
              "False"
            ]
          },
          "execution_count": 33,
          "metadata": {},
          "output_type": "execute_result"
        }
      ],
      "source": [
        "#Fritful function\n",
        "def com(a,b):\n",
        "  return a>b\n",
        "com(5,7)"
      ]
    },
    {
      "cell_type": "code",
      "execution_count": 1,
      "metadata": {
        "colab": {
          "base_uri": "https://localhost:8080/"
        },
        "id": "mRxb_pdu7ur_",
        "outputId": "fd8309dd-0599-4a08-f7ae-e8ff7305c0ad"
      },
      "outputs": [
        {
          "name": "stdout",
          "output_type": "stream",
          "text": [
            "answer 4\n"
          ]
        }
      ],
      "source": [
        "#Anonymous function or Lambda function\n",
        "#syntax=>lambda inputargument:Exression\n",
        "s=lambda n:(n+n%n)\n",
        "print(\"answer\",s(4))"
      ]
    },
    {
      "cell_type": "code",
      "execution_count": 2,
      "metadata": {
        "colab": {
          "base_uri": "https://localhost:8080/"
        },
        "id": "LLOtVJaxmHt0",
        "outputId": "e8298e67-fc0b-47f4-d687-ccd69072ecfd"
      },
      "outputs": [
        {
          "name": "stdout",
          "output_type": "stream",
          "text": [
            "The square of 1is:1\n",
            "The square of 2is:4\n",
            "The square of 3is:9\n",
            "The square of 4is:16\n",
            "The square of 5is:25\n",
            "The square of 6is:36\n",
            "The square of 7is:49\n",
            "The square of 8is:64\n",
            "The square of 9is:81\n",
            "The square of 10is:100\n"
          ]
        }
      ],
      "source": [
        "t=lambda n:n*n\n",
        "for i in range(1,11):\n",
        "  print(\"The square of {}is:{}\".format(i,t(i)))"
      ]
    },
    {
      "cell_type": "code",
      "execution_count": null,
      "metadata": {
        "id": "-ZkdXnylqa3g"
      },
      "outputs": [],
      "source": [
        "###Recusion Topic###"
      ]
    },
    {
      "cell_type": "code",
      "execution_count": 7,
      "metadata": {
        "colab": {
          "base_uri": "https://localhost:8080/"
        },
        "id": "hbiq8-AyqlVO",
        "outputId": "d11fa66b-1db2-4c06-f17f-32e585416563"
      },
      "outputs": [
        {
          "name": "stdout",
          "output_type": "stream",
          "text": [
            "6\n"
          ]
        }
      ],
      "source": [
        "#Factorial of a number\n",
        "def fact(n):\n",
        "  if n==1 or n==0:\n",
        "    return 1\n",
        "  else:\n",
        "    return n*fact(n-1)\n",
        "x=fact(3)\n",
        "print(x)\n"
      ]
    },
    {
      "cell_type": "code",
      "execution_count": 6,
      "metadata": {
        "colab": {
          "base_uri": "https://localhost:8080/"
        },
        "id": "7wcN1R06rBvD",
        "outputId": "c5490ada-b1a5-439c-9966-968510264016"
      },
      "outputs": [
        {
          "name": "stdout",
          "output_type": "stream",
          "text": [
            "8\n"
          ]
        }
      ],
      "source": [
        "#Power of a number\n",
        "def pow(X,N):\n",
        "  if N==0:\n",
        "    return 1\n",
        "  else:\n",
        "    return X*pow(X,N-1)\n",
        "x=pow(2,3)\n",
        "print(x)"
      ]
    }
  ],
  "metadata": {
    "colab": {
      "provenance": []
    },
    "kernelspec": {
      "display_name": "Python 3",
      "name": "python3"
    },
    "language_info": {
      "name": "python"
    }
  },
  "nbformat": 4,
  "nbformat_minor": 0
}
