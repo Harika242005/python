{
  "nbformat": 4,
  "nbformat_minor": 0,
  "metadata": {
    "colab": {
      "provenance": []
    },
    "kernelspec": {
      "name": "python3",
      "display_name": "Python 3"
    },
    "language_info": {
      "name": "python"
    }
  },
  "cells": [
    {
      "cell_type": "code",
      "execution_count": null,
      "metadata": {
        "colab": {
          "base_uri": "https://localhost:8080/"
        },
        "id": "IYIFTLgSSIlH",
        "outputId": "b83313ff-d6f5-4663-9c1b-76e055b90d79"
      },
      "outputs": [
        {
          "output_type": "stream",
          "name": "stdout",
          "text": [
            "Enter the name of the person:Harika\n",
            "Enter the age of the person:20\n",
            "Tha name of the person is: Harika and the age is 20\n"
          ]
        }
      ],
      "source": [
        "#Object oriented programming system(OOPS)\n",
        "#1.classes and object\n",
        "class person:\n",
        "  def set_details(self,name,age):\n",
        "    self.name=name\n",
        "    self.age=age\n",
        "  def get_details(self):\n",
        "    print(\"Tha name of the person is:\",self.name,\"and the age is\",self.age,sep=' ')\n",
        "p=person()\n",
        "name=input(\"Enter the name of the person:\")\n",
        "age=int(input(\"Enter the age of the person:\"))\n",
        "p.set_details(name,age)\n",
        "p.get_details()"
      ]
    },
    {
      "cell_type": "code",
      "source": [
        "#2.Constructors (1.Default,2.Parameterized)\n",
        "class person:\n",
        "  def __init__(self,name,age):\n",
        "    self.name=name\n",
        "    self.age=age\n",
        "  def get_details(self):\n",
        "    print(\"Tha name of the person is:\",self.name,\"and the age is\",self.age,sep=' ')\n",
        "name=input(\"Enter the name of the person:\")\n",
        "age=int(input(\"Enter the age of the person:\"))\n",
        "p=person(name,age)\n",
        "p.get_details()\n"
      ],
      "metadata": {
        "colab": {
          "base_uri": "https://localhost:8080/"
        },
        "id": "DEmT3nmNU4XZ",
        "outputId": "d8451c32-66d5-4768-8ac7-0befe959ee81"
      },
      "execution_count": null,
      "outputs": [
        {
          "output_type": "stream",
          "name": "stdout",
          "text": [
            "Enter the name of the person:Harika\n",
            "Enter the age of the person:20\n",
            "Tha name of the person is: Harika and the age is 20\n"
          ]
        }
      ]
    },
    {
      "cell_type": "code",
      "source": [
        "#Types of Attributes(1.Instance 2.Class)\n",
        "class person:\n",
        "  country=\"India\"\n",
        "  def __init__(self,name,age):\n",
        "     self.name=name\n",
        "     self.age=age\n",
        "  def get_details(self):\n",
        "     print(\"The name of the person is:\",self.name,\"and the age is\",self.age,\"Country is:\",self.country,sep=' ')\n",
        "p=person(name,age)\n",
        "p.get_details()\n",
        "#country  is a Class attribute because it is same for evary object\n",
        "#name,age are Instance attribute because different for every object"
      ],
      "metadata": {
        "colab": {
          "base_uri": "https://localhost:8080/"
        },
        "id": "GussJ3_sWAI-",
        "outputId": "959fe8af-06ca-4042-f204-6d1e8b7773b8"
      },
      "execution_count": null,
      "outputs": [
        {
          "output_type": "stream",
          "name": "stdout",
          "text": [
            "The name of the person is: Harika and the age is 20 Country is: India\n"
          ]
        }
      ]
    },
    {
      "cell_type": "code",
      "source": [
        "#Types of methods(or)Functions(1.static or class Methods 2.Instance Methods)\n",
        "class person:\n",
        "  city=\"Hydeerabad\"\n",
        "  def __init__(self,name,age):\n",
        "    self.name=name\n",
        "    self.age=age\n",
        "  @staticmethod\n",
        "  def hello():\n",
        "    print(\"Hello\")\n",
        "  def get_details(self):\n",
        "    print(\"The name of the person is:\",self.name,\"and the age is\",self.age,\"City is:\",self.city,sep=' ')\n",
        "person.hello()\n",
        "p1=person(\"Harika\",19)\n",
        "p1.get_details()\n",
        "p1.hello()\n",
        "p2=person(\"Sai\",20)\n",
        "p2.get_details()\n",
        "p2.hello()"
      ],
      "metadata": {
        "colab": {
          "base_uri": "https://localhost:8080/"
        },
        "id": "vs6Si2aYa2BV",
        "outputId": "777c4c2d-49bb-4584-a63c-619d3c2617ba"
      },
      "execution_count": null,
      "outputs": [
        {
          "output_type": "stream",
          "name": "stdout",
          "text": [
            "Hello\n",
            "The name of the person is: Harika and the age is 19 City is: Hydeerabad\n",
            "Hello\n",
            "The name of the person is: Sai and the age is 20 City is: Hydeerabad\n",
            "Hello\n"
          ]
        }
      ]
    },
    {
      "cell_type": "code",
      "source": [
        "#Access modifiers(1.Private 2. Protected 3.Public)\n",
        "#1.Private\n",
        "class person:\n",
        "  def __init__(self,name,age):\n",
        "    self.__name=name\n",
        "    self.age=age\n",
        "  def get_details(self):\n",
        "    print(self.__name)\n",
        "p=person(\"Harika\",19)\n",
        "#Method1\n",
        "p.get_details()\n",
        "#Method2\n",
        "print(p.__name)\n",
        "#Method3\n",
        "#Using Inheritence"
      ],
      "metadata": {
        "colab": {
          "base_uri": "https://localhost:8080/",
          "height": 237
        },
        "id": "aiBVL80ncQ3u",
        "outputId": "ab565dc0-305b-4536-9dd5-f1cc35c1758c"
      },
      "execution_count": null,
      "outputs": [
        {
          "output_type": "stream",
          "name": "stdout",
          "text": [
            "Harika\n"
          ]
        },
        {
          "output_type": "error",
          "ename": "AttributeError",
          "evalue": "'person' object has no attribute '__name'",
          "traceback": [
            "\u001b[0;31m---------------------------------------------------------------------------\u001b[0m",
            "\u001b[0;31mAttributeError\u001b[0m                            Traceback (most recent call last)",
            "\u001b[0;32m<ipython-input-14-b0cd4cfb33d7>\u001b[0m in \u001b[0;36m<cell line: 0>\u001b[0;34m()\u001b[0m\n\u001b[1;32m     11\u001b[0m \u001b[0mp\u001b[0m\u001b[0;34m.\u001b[0m\u001b[0mget_details\u001b[0m\u001b[0;34m(\u001b[0m\u001b[0;34m)\u001b[0m\u001b[0;34m\u001b[0m\u001b[0;34m\u001b[0m\u001b[0m\n\u001b[1;32m     12\u001b[0m \u001b[0;31m#Method2\u001b[0m\u001b[0;34m\u001b[0m\u001b[0;34m\u001b[0m\u001b[0m\n\u001b[0;32m---> 13\u001b[0;31m \u001b[0mprint\u001b[0m\u001b[0;34m(\u001b[0m\u001b[0mp\u001b[0m\u001b[0;34m.\u001b[0m\u001b[0m__name\u001b[0m\u001b[0;34m)\u001b[0m\u001b[0;34m\u001b[0m\u001b[0;34m\u001b[0m\u001b[0m\n\u001b[0m\u001b[1;32m     14\u001b[0m \u001b[0;31m#Method3\u001b[0m\u001b[0;34m\u001b[0m\u001b[0;34m\u001b[0m\u001b[0m\n\u001b[1;32m     15\u001b[0m \u001b[0;31m#Using Inheritence\u001b[0m\u001b[0;34m\u001b[0m\u001b[0;34m\u001b[0m\u001b[0m\n",
            "\u001b[0;31mAttributeError\u001b[0m: 'person' object has no attribute '__name'"
          ]
        }
      ]
    },
    {
      "cell_type": "code",
      "source": [
        "#1.Protected\n",
        "class person:\n",
        "  def __init__(self,name,age):\n",
        "    self._name=name\n",
        "    self.age=age\n",
        "  def get_details(self):\n",
        "    print(self._name)\n",
        "p=person(\"Harika\",19)\n",
        "#Method1\n",
        "p.get_details()\n",
        "#Method2\n",
        "print(p._name)\n",
        "#Method3\n",
        "#Using Inheritence"
      ],
      "metadata": {
        "colab": {
          "base_uri": "https://localhost:8080/"
        },
        "id": "TFxU6Vq2lv2a",
        "outputId": "6084feff-9420-48f1-c8f1-90f447368fd1"
      },
      "execution_count": null,
      "outputs": [
        {
          "output_type": "stream",
          "name": "stdout",
          "text": [
            "Harika\n",
            "Harika\n"
          ]
        }
      ]
    },
    {
      "cell_type": "code",
      "source": [
        "#3,Public\n",
        "class person:\n",
        "  def __init__(self,name,age):\n",
        "    self.name=name\n",
        "    self.age=age\n",
        "  def get_details(self):\n",
        "    print(self.name)\n",
        "p=person(\"Harika\",19)\n",
        "#Method1\n",
        "p.get_details()\n",
        "#Method2\n",
        "print(p.name)\n",
        "#Method3\n",
        "#Using Inheritence"
      ],
      "metadata": {
        "colab": {
          "base_uri": "https://localhost:8080/"
        },
        "id": "tr-7gubIl9RG",
        "outputId": "13427843-c146-4c04-aad5-b3abf9f976dc"
      },
      "execution_count": null,
      "outputs": [
        {
          "output_type": "stream",
          "name": "stdout",
          "text": [
            "Harika\n",
            "Harika\n"
          ]
        }
      ]
    },
    {
      "cell_type": "code",
      "source": [
        "#Inheritence(1.Single 2.multiple 3.mult 4.multi path)\n",
        "#1.Single Inheritance\n",
        "class Chaneel():\n",
        "  rate=30\n",
        "  def watch(self):\n",
        "    print(\"chaneel fans Must watcch\")\n",
        "class ETV(Chaneel):\n",
        "  number=9\n",
        "  def get_details(self):\n",
        "    print(\"Here now u watching ETV\")\n"
      ],
      "metadata": {
        "id": "XzpPd2BxmITM"
      },
      "execution_count": null,
      "outputs": []
    },
    {
      "cell_type": "code",
      "source": [
        "s = Chaneel()\n",
        "s.watch()\n",
        "s.get_details()"
      ],
      "metadata": {
        "colab": {
          "base_uri": "https://localhost:8080/",
          "height": 200
        },
        "id": "Wgfvd0Ta1GCq",
        "outputId": "ebe97139-aeb4-439b-9e51-8260c54a4dd5"
      },
      "execution_count": null,
      "outputs": [
        {
          "output_type": "stream",
          "name": "stdout",
          "text": [
            "chaneel fans Must watcch\n"
          ]
        },
        {
          "output_type": "error",
          "ename": "AttributeError",
          "evalue": "'Chaneel' object has no attribute 'get_details'",
          "traceback": [
            "\u001b[0;31m---------------------------------------------------------------------------\u001b[0m",
            "\u001b[0;31mAttributeError\u001b[0m                            Traceback (most recent call last)",
            "\u001b[0;32m<ipython-input-11-6d0bce0c9c3e>\u001b[0m in \u001b[0;36m<cell line: 0>\u001b[0;34m()\u001b[0m\n\u001b[1;32m      1\u001b[0m \u001b[0ms\u001b[0m \u001b[0;34m=\u001b[0m \u001b[0mChaneel\u001b[0m\u001b[0;34m(\u001b[0m\u001b[0;34m)\u001b[0m\u001b[0;34m\u001b[0m\u001b[0;34m\u001b[0m\u001b[0m\n\u001b[1;32m      2\u001b[0m \u001b[0ms\u001b[0m\u001b[0;34m.\u001b[0m\u001b[0mwatch\u001b[0m\u001b[0;34m(\u001b[0m\u001b[0;34m)\u001b[0m\u001b[0;34m\u001b[0m\u001b[0;34m\u001b[0m\u001b[0m\n\u001b[0;32m----> 3\u001b[0;31m \u001b[0ms\u001b[0m\u001b[0;34m.\u001b[0m\u001b[0mget_details\u001b[0m\u001b[0;34m(\u001b[0m\u001b[0;34m)\u001b[0m\u001b[0;34m\u001b[0m\u001b[0;34m\u001b[0m\u001b[0m\n\u001b[0m",
            "\u001b[0;31mAttributeError\u001b[0m: 'Chaneel' object has no attribute 'get_details'"
          ]
        }
      ]
    },
    {
      "cell_type": "code",
      "source": [
        "s1 = ETV()\n",
        "s1.watch()\n",
        "s1.get_details()"
      ],
      "metadata": {
        "colab": {
          "base_uri": "https://localhost:8080/"
        },
        "id": "1xPSex-g1Rcw",
        "outputId": "326da292-9a8e-43f4-f85b-b076deb301f5"
      },
      "execution_count": null,
      "outputs": [
        {
          "output_type": "stream",
          "name": "stdout",
          "text": [
            "chaneel fans Must watcch\n",
            "Here now u watching ETV\n"
          ]
        }
      ]
    },
    {
      "cell_type": "code",
      "source": [
        "#2.Multiple Inheritance\n",
        "class Chaneel():\n",
        "  rate=30\n",
        "  def watch(self):\n",
        "    print(\"chaneel fans Must watcch\")\n",
        "class ETV(Chaneel):\n",
        "  number=9\n",
        "  def get_details(self):\n",
        "    print(\"Here now u watching ETV\")\n",
        "class Zee(Chaneel):\n",
        "  number=10\n",
        "  def get_details(self):\n",
        "    print(\"Here now u watching Zee\")\n"
      ],
      "metadata": {
        "id": "6QxJRFcA1m5j"
      },
      "execution_count": null,
      "outputs": []
    },
    {
      "cell_type": "code",
      "source": [
        "s2 = Zee()\n",
        "s2.watch()\n",
        "s2.get_details()"
      ],
      "metadata": {
        "colab": {
          "base_uri": "https://localhost:8080/"
        },
        "id": "-35OJLNq2i5q",
        "outputId": "72b67739-b232-4cb9-a692-125914d2ea70"
      },
      "execution_count": null,
      "outputs": [
        {
          "output_type": "stream",
          "name": "stdout",
          "text": [
            "chaneel fans Must watcch\n",
            "Here now u watching Zee\n"
          ]
        }
      ]
    },
    {
      "cell_type": "code",
      "source": [
        "#3.Multi Inheritance\n",
        "class Chaneel():\n",
        "  rate=30\n",
        "  def watch(self):\n",
        "    print(\"chaneel fans Must watcch\")\n",
        "class ETV(Chaneel):\n",
        "  number=9\n",
        "  def get_details(self):\n",
        "    print(\"Here now u watching ETV\")\n",
        "class Zee(ETV):\n",
        "  number=10\n",
        "  def yet_details(self):\n",
        "    print(\"Here now u watching Zee\")\n"
      ],
      "metadata": {
        "id": "Lm2MH1PF2uqy"
      },
      "execution_count": null,
      "outputs": []
    },
    {
      "cell_type": "code",
      "source": [
        "s3 = Zee()\n",
        "s3.watch()\n",
        "s3.yet_details()\n",
        "s3.get_details()"
      ],
      "metadata": {
        "colab": {
          "base_uri": "https://localhost:8080/"
        },
        "id": "-fyssarD28TZ",
        "outputId": "401e5a85-ed37-4b01-e3a2-70dab07c9b9c"
      },
      "execution_count": null,
      "outputs": [
        {
          "output_type": "stream",
          "name": "stdout",
          "text": [
            "chaneel fans Must watcch\n",
            "Here now u watching Zee\n",
            "Here now u watching ETV\n"
          ]
        }
      ]
    },
    {
      "cell_type": "code",
      "source": [
        "#4.Multi Inheritance\n",
        "class Chaneel():\n",
        "  rate=30\n",
        "  def watch(self):\n",
        "    print(\"chaneel fans Must watcch\")\n",
        "class ETV(Chaneel):\n",
        "  number=9\n",
        "  def get_details(self):\n",
        "    print(\"Here now u watching ETV\")\n",
        "class Zee(Chaneel):\n",
        "  number=10\n",
        "  def yet_details(self):\n",
        "    print(\"Here now u watching Zee\")\n",
        "\n",
        "class movies(ETV,Zee):\n",
        "  number=1\n",
        "  def for_details(self):\n",
        "    print(\"Here now u watching movies\")"
      ],
      "metadata": {
        "id": "e-JG2TqC3MzE"
      },
      "execution_count": null,
      "outputs": []
    },
    {
      "cell_type": "code",
      "source": [
        "s4=movies()\n",
        "s4.watch()\n",
        "s4.yet_details()\n",
        "s4.get_details()\n",
        "s4.for_details()"
      ],
      "metadata": {
        "colab": {
          "base_uri": "https://localhost:8080/"
        },
        "id": "3x9wqRtd5TIa",
        "outputId": "af11ad2f-d394-4dd9-a48a-8845a772421c"
      },
      "execution_count": null,
      "outputs": [
        {
          "output_type": "stream",
          "name": "stdout",
          "text": [
            "chaneel fans Must watcch\n",
            "Here now u watching Zee\n",
            "Here now u watching ETV\n",
            "Here now u watching movies\n"
          ]
        }
      ]
    },
    {
      "cell_type": "code",
      "source": [
        "#Polymorphism"
      ],
      "metadata": {
        "id": "ZdMCtY-X__A-"
      },
      "execution_count": null,
      "outputs": []
    },
    {
      "cell_type": "code",
      "source": [
        "# Parent class\n",
        "class Animal:\n",
        "    def sound(self):\n",
        "        return \"Animals make different sounds\"\n",
        "\n",
        "# Child class 1\n",
        "class Dog(Animal):\n",
        "    def sound(self):\n",
        "        # Using super() to call the parent class method\n",
        "        parent_sound = super().sound()\n",
        "        return f\"{parent_sound}. A Dog barks!\"\n",
        "\n",
        "# Child class 2\n",
        "class Cat(Animal):\n",
        "    def sound(self):\n",
        "        # Using super() to call the parent class method\n",
        "        parent_sound = super().sound()\n",
        "        return f\"{parent_sound}. A Cat meows!\"\n",
        "\n",
        "# Demonstrating polymorphism\n",
        "animals = [Dog(), Cat()]\n",
        "\n",
        "for animal in animals:\n",
        "    print(animal.sound())\n"
      ],
      "metadata": {
        "id": "StmwmAg5A0YF",
        "outputId": "34bea5c9-82bd-4f1b-855a-f6450611d0f7",
        "colab": {
          "base_uri": "https://localhost:8080/"
        }
      },
      "execution_count": 1,
      "outputs": [
        {
          "output_type": "stream",
          "name": "stdout",
          "text": [
            "Animals make different sounds. A Dog barks!\n",
            "Animals make different sounds. A Cat meows!\n"
          ]
        }
      ]
    }
  ]
}